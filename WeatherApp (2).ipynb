{
  "nbformat": 4,
  "nbformat_minor": 0,
  "metadata": {
    "colab": {
      "provenance": []
    },
    "kernelspec": {
      "name": "python3",
      "display_name": "Python 3"
    },
    "language_info": {
      "name": "python"
    }
  },
  "cells": [
    {
      "cell_type": "code",
      "source": [
        "import requests\n",
        "import json\n",
        "import threading\n",
        "\n",
        "class WeatherApp:\n",
        "    def __init__(self):\n",
        "        self.api_key = \"89df9e01aaf466ee40550f3f84852474\"\n",
        "        self.base_url = \"http://api.openweathermap.org/data/2.5/weather?\"\n",
        "\n",
        "    def get_weather(self, city):\n",
        "        try:\n",
        "            complete_url = f\"{self.base_url}q={city}&appid={self.api_key}\"\n",
        "            response = requests.get(complete_url)\n",
        "            data = response.json()\n",
        "            temperature_celsius = data[\"main\"][\"temp\"] - 273.15\n",
        "            weather_data = {\n",
        "                \"city\": city,\n",
        "                \"temperature\": temperature_celsius,\n",
        "                \"conditions\": data[\"weather\"][0][\"description\"]\n",
        "            }\n",
        "            return weather_data\n",
        "        except Exception as e:\n",
        "            print(\"An error occurred:\", e)\n",
        "            return None\n",
        "\n",
        "def fetch_weather_for_cities(cities, weather_app):\n",
        "    for city in cities:\n",
        "        weather_data = get_weather_with_retry(weather_app, city)\n",
        "        if weather_data:\n",
        "            print(\"Weather report for\", city)\n",
        "            print(\"Temperature:\", weather_data[\"temperature\"], \"°C\")\n",
        "            print(\"Conditions:\", weather_data[\"conditions\"])\n",
        "            print()\n",
        "\n",
        "def retry_decorator(func):\n",
        "    def wrapper(*args, **kwargs):\n",
        "        for _ in range(3):  # Retry up to 3 times\n",
        "            try:\n",
        "                result = func(*args, **kwargs)\n",
        "                return result\n",
        "            except Exception as e:\n",
        "                print(\"Retrying due to error:\", e)\n",
        "        print(\"Failed after 3 retries.\")\n",
        "        return None\n",
        "    return wrapper\n",
        "\n",
        "@retry_decorator\n",
        "def get_weather_with_retry(weather_app, city):\n",
        "    return weather_app.get_weather(city)\n",
        "\n",
        "def main():\n",
        "    cities = input(\"Enter cities (separated by commas): \").split(\",\")\n",
        "    cities = [city.strip() for city in cities]\n",
        "\n",
        "    threads = []\n",
        "    chunk_size = 5  # Adjust the chunk size as needed\n",
        "    weather_app = WeatherApp()  # Create one instance of WeatherApp to be shared across threads\n",
        "    for i in range(0, len(cities), chunk_size):\n",
        "        chunk = cities[i:i+chunk_size]\n",
        "        thread = threading.Thread(target=fetch_weather_for_cities, args=(chunk, weather_app))\n",
        "        thread.start()\n",
        "        threads.append(thread)\n",
        "\n",
        "    for thread in threads:\n",
        "        thread.join()\n",
        "\n",
        "if __name__ == \"__main__\":\n",
        "    main()"
      ],
      "metadata": {
        "colab": {
          "base_uri": "https://localhost:8080/"
        },
        "id": "kZlh_hcGtX0Q",
        "outputId": "3f67d882-370b-4b2f-842c-5bd8c50f6331"
      },
      "execution_count": 12,
      "outputs": [
        {
          "output_type": "stream",
          "name": "stdout",
          "text": [
            "Enter cities (separated by commas): delhi, mumbai, surat\n",
            "Weather report for delhi\n",
            "Temperature: 40.06 °C\n",
            "Conditions: haze\n",
            "\n",
            "Weather report for mumbai\n",
            "Temperature: 29.99000000000001 °C\n",
            "Conditions: haze\n",
            "\n",
            "Weather report for surat\n",
            "Temperature: 34.99000000000001 °C\n",
            "Conditions: few clouds\n",
            "\n"
          ]
        }
      ]
    }
  ]
}